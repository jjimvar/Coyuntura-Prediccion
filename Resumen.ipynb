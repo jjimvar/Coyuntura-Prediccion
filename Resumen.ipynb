{
 "cells": [
  {
   "cell_type": "code",
   "execution_count": 1,
   "metadata": {},
   "outputs": [],
   "source": [
    "import PyPDF2\n",
    "mergeFile = PyPDF2.PdfMerger ()\n",
    "mergeFile.append(PyPDF2.PdfReader (\"C:/Users/Usuario/Documento1.pdf\", 'rb'))\n",
    "mergeFile.append(PyPDF2.PdfReader (\"C:/Users/Usuario/Documento2.pdf\", 'rb'))\n",
    "mergeFile.append(PyPDF2.PdfReader (\"C:/Users/Usuario/Documento3.pdf\", 'rb'))\n",
    "mergeFile.append(PyPDF2.PdfReader (\"C:/Users/Usuario/Documento4.pdf\", 'rb'))\n",
    "mergeFile.write(\"C:/Users/Usuario/Resumen.pdf\")"
   ]
  }
 ],
 "metadata": {
  "kernelspec": {
   "display_name": "Python 3",
   "language": "python",
   "name": "python3"
  },
  "language_info": {
   "codemirror_mode": {
    "name": "ipython",
    "version": 3
   },
   "file_extension": ".py",
   "mimetype": "text/x-python",
   "name": "python",
   "nbconvert_exporter": "python",
   "pygments_lexer": "ipython3",
   "version": "3.11.6"
  }
 },
 "nbformat": 4,
 "nbformat_minor": 2
}
